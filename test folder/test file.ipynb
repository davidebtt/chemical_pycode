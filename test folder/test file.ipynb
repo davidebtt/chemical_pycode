{
  "nbformat": 4,
  "nbformat_minor": 0,
  "metadata": {
    "colab": {
      "provenance": [],
      "authorship_tag": "ABX9TyPu06i5A02K1jHd2TaseyI3",
      "include_colab_link": true
    },
    "kernelspec": {
      "name": "python3",
      "display_name": "Python 3"
    },
    "language_info": {
      "name": "python"
    }
  },
  "cells": [
    {
      "cell_type": "markdown",
      "metadata": {
        "id": "view-in-github",
        "colab_type": "text"
      },
      "source": [
        "<a href=\"https://colab.research.google.com/github/davidebtt/chemical_pycode/blob/gas-phase/test%20folder/test%20file.ipynb\" target=\"_parent\"><img src=\"https://colab.research.google.com/assets/colab-badge.svg\" alt=\"Open In Colab\"/></a>"
      ]
    },
    {
      "cell_type": "code",
      "execution_count": null,
      "metadata": {
        "id": "3DA72mK2Hn03"
      },
      "outputs": [],
      "source": [
        "# Problem Statement:\n",
        "# -------------------\n",
        "# In a container, initially empty, with a volume of 15.7 L, 25.5 g of N₂ and a significant amount of benzene\n",
        "# are introduced. The container is heated to a temperature of 122 °C. Knowing that the total pressure\n",
        "# exerted by the mixture is 2.26 atm, calculate:\n",
        "#\n",
        "# 1. The mass of benzene.\n",
        "# 2. The partial pressures of the two gases (N₂ and benzene).\n",
        "#\n",
        "# Given Data:\n",
        "# -----------\n",
        "# - Volume of the container: 15.7 L\n",
        "# - Mass of N₂: 25.5 g\n",
        "# - Temperature: 122 °C (convert to Kelvin for calculations: T = 122 + 273.15 = 395.15 K)\n",
        "# - Total pressure: 2.26 atm\n",
        "#\n",
        "# Notes:\n",
        "# ------\n",
        "# - Use the Ideal Gas Law (PV = nRT) to calculate the number of moles and pressures.\n",
        "# - Assume benzene is in the gas phase and behaves ideally at the given temperature.\n",
        "# - Convert mass to moles using molar masses:\n",
        "#   - Molar mass of N₂ = 28.02 g/mol\n",
        "#   - Molar mass of benzene (C₆H₆) = 78.11 g/mol\n"
      ]
    }
  ]
}