{
  "nbformat": 4,
  "nbformat_minor": 0,
  "metadata": {
    "colab": {
      "provenance": [],
      "authorship_tag": "ABX9TyPCu45yXyc7VGVK9wzS1NK2",
      "include_colab_link": true
    },
    "kernelspec": {
      "name": "python3",
      "display_name": "Python 3"
    },
    "language_info": {
      "name": "python"
    }
  },
  "cells": [
    {
      "cell_type": "markdown",
      "metadata": {
        "id": "view-in-github",
        "colab_type": "text"
      },
      "source": [
        "<a href=\"https://colab.research.google.com/github/davidebtt/chemical_pycode/blob/chemical-calculator/Lab_Procedure_Extractor.ipynb\" target=\"_parent\"><img src=\"https://colab.research.google.com/assets/colab-badge.svg\" alt=\"Open In Colab\"/></a>"
      ]
    },
    {
      "cell_type": "markdown",
      "source": [
        "**Lab procedure extractor:** Once you find a procedure in a research article or a patent, it must be adapted to suit your lab and desired scale. Therefore, it is useful to express all quantities as intensive properties of matter.This approach allows you to work quickly and start your reaction immediately in the lab without spending too much time calculating equivalents and millimoles. Let this method save you time and eliminate the need for complex calculations later!"
      ],
      "metadata": {
        "id": "WbFTJr7v0Oab"
      }
    },
    {
      "cell_type": "code",
      "execution_count": null,
      "metadata": {
        "id": "4mp9cPDdz4fQ"
      },
      "outputs": [],
      "source": []
    }
  ]
}