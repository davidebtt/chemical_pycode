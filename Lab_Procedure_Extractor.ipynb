{
  "nbformat": 4,
  "nbformat_minor": 0,
  "metadata": {
    "colab": {
      "provenance": [],
      "authorship_tag": "ABX9TyPfCKfIw2wfGB1f/fiZNGFP",
      "include_colab_link": true
    },
    "kernelspec": {
      "name": "python3",
      "display_name": "Python 3"
    },
    "language_info": {
      "name": "python"
    }
  },
  "cells": [
    {
      "cell_type": "markdown",
      "metadata": {
        "id": "view-in-github",
        "colab_type": "text"
      },
      "source": [
        "<a href=\"https://colab.research.google.com/github/davidebtt/chemical_pycode/blob/chemical-calculator/Lab_Procedure_Extractor.ipynb\" target=\"_parent\"><img src=\"https://colab.research.google.com/assets/colab-badge.svg\" alt=\"Open In Colab\"/></a>"
      ]
    },
    {
      "cell_type": "markdown",
      "source": [
        "**Lab procedure extractor:** Once you find a procedure in a research article or a patent, it must be adapted to suit your lab and desired scale. Therefore, it is useful to express all quantities as intensive properties of matter. Here’s what I mean: the starting material should be expressed in grams (g), the solvent in volume/weight percentage (v/w%), and the reagents in weight/weight percentage (w/w%) relative to the limiting reagent. If the reagent is a liquid, simply express it in v/w%. This approach allows you to work quickly and start your reaction immediately in the lab without spending too much time calculating equivalents and millimoles. Let this method save you time and eliminate the need for complex calculations later!"
      ],
      "metadata": {
        "id": "WbFTJr7v0Oab"
      }
    },
    {
      "cell_type": "code",
      "execution_count": null,
      "metadata": {
        "id": "4mp9cPDdz4fQ"
      },
      "outputs": [],
      "source": []
    }
  ]
}