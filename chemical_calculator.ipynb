{
  "nbformat": 4,
  "nbformat_minor": 0,
  "metadata": {
    "colab": {
      "provenance": [],
      "authorship_tag": "ABX9TyPbjzIuUzjyvv5UqxfK15oI",
      "include_colab_link": true
    },
    "kernelspec": {
      "name": "python3",
      "display_name": "Python 3"
    },
    "language_info": {
      "name": "python"
    }
  },
  "cells": [
    {
      "cell_type": "markdown",
      "metadata": {
        "id": "view-in-github",
        "colab_type": "text"
      },
      "source": [
        "<a href=\"https://colab.research.google.com/github/davidebtt/chemical_pycode/blob/chemical-calculator/chemical_calculator.ipynb\" target=\"_parent\"><img src=\"https://colab.research.google.com/assets/colab-badge.svg\" alt=\"Open In Colab\"/></a>"
      ]
    },
    {
      "cell_type": "code",
      "execution_count": null,
      "metadata": {
        "colab": {
          "base_uri": "https://localhost:8080/"
        },
        "id": "WZ3ubxKhh0x1",
        "outputId": "0f8549e8-7d82-4d84-8750-5c930a918668"
      },
      "outputs": [
        {
          "output_type": "stream",
          "name": "stdout",
          "text": [
            "\n",
            "Yield Calculator Menu:\n",
            "1 - Calculate Reaction Yield\n",
            "2 - Calculate Crystallization Yield\n",
            "0 - Exit\n",
            "Select an option: 2\n",
            "Enter the quantity of the crude product in g: 34\n",
            "Enter the quantity of cristallized product in g: 31\n",
            "Crystallization Yield: 91.18%\n",
            "\n",
            "Yield Calculator Menu:\n",
            "1 - Calculate Reaction Yield\n",
            "2 - Calculate Crystallization Yield\n",
            "0 - Exit\n"
          ]
        }
      ],
      "source": [
        "# Yield Calculator\n",
        "\n",
        "def calculate_reaction_yield():\n",
        "    \"\"\"Calculates the reaction yield based on molecular weight and quantity.\"\"\"\n",
        "    # User input\n",
        "    starting_material_MW = float(input(\"Enter the molecular weight (MW) of the starting material in g/mol: \"))\n",
        "    starting_material_g = float(input(\"Enter the mass of the starting material in g: \"))\n",
        "    starting_material_assay_percent = float(input(\"Enter the assay of the starting material in %w: \"))\n",
        "\n",
        "    product_MW = float(input(\"Enter the molecular weight (MW) of the product in g/mol: \"))\n",
        "    product_g = float(input(\"Enter the mass of the product in g: \"))\n",
        "    product_percent = float(input(\"Enter the assay of the product in %w: \"))\n",
        "\n",
        "    # Calculations\n",
        "    starting_material_mmol = (starting_material_g * (starting_material_assay_percent / 100)) / starting_material_MW\n",
        "    product_mmol = (product_g * (product_percent / 100)) / product_MW\n",
        "\n",
        "    # Correct yield calculation\n",
        "    yield_percent = round((product_mmol / starting_material_mmol) * 100, 2)\n",
        "\n",
        "    # Output\n",
        "    print(f\"Reaction Yield: {yield_percent}%\")\n",
        "\n",
        "def calculate_crystallization_yield():\n",
        "    \"\"\"Calculates the crystallization yield based on solubility.\"\"\"\n",
        "    # User input\n",
        "    starting_quantity_crude_g = float(input(\"Enter the quantity of the crude product in g: \"))\n",
        "    amount_of_cristallized_product = float(input(\"Enter the quantity of cristallized product in g: \"))\n",
        "\n",
        "    # Calculation of crystallization yield\n",
        "    crystallization_yield = round((amount_of_cristallized_product / starting_quantity_crude_g)*100,2)\n",
        "\n",
        "    if starting_quantity_crude_g == 0:\n",
        "        print(\"Error: The initial mass cannot be zero.\")\n",
        "        return\n",
        "\n",
        "    # Output\n",
        "    print(f\"Crystallization Yield: {crystallization_yield}%\")\n",
        "\n",
        "# Interactive menu\n",
        "while True:\n",
        "    print(\"\\nYield Calculator Menu:\")\n",
        "    print(\"1 - Calculate Reaction Yield\")\n",
        "    print(\"2 - Calculate Crystallization Yield\")\n",
        "    print(\"0 - Exit\")\n",
        "\n",
        "    choice = input(\"Select an option: \")\n",
        "\n",
        "    if choice == \"1\":\n",
        "        calculate_reaction_yield()\n",
        "    elif choice == \"2\":\n",
        "        calculate_crystallization_yield()\n",
        "    elif choice == \"0\":\n",
        "        print(\"Exiting the program.\")\n",
        "        break\n",
        "    else:\n",
        "        print(\"Invalid selection, please try again.\")"
      ]
    }
  ]
}