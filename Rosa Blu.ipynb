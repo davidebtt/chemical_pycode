{
  "nbformat": 4,
  "nbformat_minor": 0,
  "metadata": {
    "colab": {
      "provenance": [],
      "authorship_tag": "ABX9TyPysfUxHJ6EqNfB/bekGwGv",
      "include_colab_link": true
    },
    "kernelspec": {
      "name": "python3",
      "display_name": "Python 3"
    },
    "language_info": {
      "name": "python"
    }
  },
  "cells": [
    {
      "cell_type": "markdown",
      "metadata": {
        "id": "view-in-github",
        "colab_type": "text"
      },
      "source": [
        "<a href=\"https://colab.research.google.com/github/davidebtt/chemical_pycode/blob/students/Rosa%20Blu.ipynb\" target=\"_parent\"><img src=\"https://colab.research.google.com/assets/colab-badge.svg\" alt=\"Open In Colab\"/></a>"
      ]
    },
    {
      "cell_type": "code",
      "execution_count": 1,
      "metadata": {
        "colab": {
          "base_uri": "https://localhost:8080/"
        },
        "id": "sapmU3qDEyGu",
        "outputId": "e198b178-d72b-43d4-fcb3-3a296873a4cc"
      },
      "outputs": [
        {
          "output_type": "stream",
          "name": "stdout",
          "text": [
            "\n",
            "Ciao Rosa Blu! \n",
            " \n",
            "Questo è il testo del tuo problema:\n",
            " \n",
            "A quale volume bisogna portare 100 ml di una soluzione di NaCl al 15%  \n",
            "(d = 1.106 g/ml) per preparare una soluzione 0.90 M?\n",
            "\n",
            "Per prima cosa trasforma il valore della concentrazione da %wt a Molarità (mol/l).\n",
            "Inserisci il valore (dato dal problema) percentuale della soluzione di partenza in %: \n",
            "15\n",
            "ottimo! è ora di usare il valore del volume della soluzione iniziale\n",
            "\n",
            "inserisci il valore (dato dal problema) del volume della soluzione iniziale (NaCl_V1) in ml: \n",
            "100\n",
            "Perfetto! il problema ti fornisce la densità (d), significa che puoi conevrtire il tuo volume in peso!\n",
            "\n",
            "inserisci il valore (dato dal problema) della densità (d) della soluzione di partenza in g/ml: \n",
            "1.106\n",
            "il peso della soluzione è quindi dato da: d * NaCl_V1 = 1.106 * 100 = 110.6 g. Di questo peso, il 15 % è NaCl \n",
            "\n",
            "quindi NaCl_g = d*NaCl_V1*(15/100) = 110.6*(15/100) = 16.59 g \n",
            "\n",
            "conoscendo il peso molecolare (NaCl_MW: 58.44) cacola: (NaCl_g/NaCl_MW) * 1000 = 283.88 mmol. \n",
            "\n",
            "Ora calcola la molarità M1: NaCl_mmol/NaCl_V1 = 2.84 M (M1). \n",
            "\n",
            "Adesso puoi usare la formula della diluizione M1V1 = M2V2 --> V2=(M1V1)/M2 \n",
            "\n",
            "inserisci il valore M2 della soluzione finale in mol/l: \n",
            "0.9\n",
            "Quindi V2 = (M1V1/M2) = 315.56 ml che è il volume a cui devo arrivare per ottenere la diluizione richiesta. \n",
            "\n",
            "Ottimo Rosa Blu! Per favore mi dici se la risposta è corretta sulla base delle soluzioni del tuo libro? scrivimi in DM su ig thanks :) \n",
            "\n"
          ]
        }
      ],
      "source": [
        "#Esercizio 11 pagina 334.\n",
        "#A quale volume bisogna portare 100 ml\n",
        "#di una soluzione di NaCl al 15%\n",
        "#(d = 1.106 g/ml)\n",
        "#per preparare una soluzione 0.90 M?\n",
        "\n",
        "#VARIABILI INDIPENDENTI\n",
        "\n",
        "#Il problema ti presenta dei dati di partenza che rapprensentano le tue variabili indipendenti\n",
        "#ovvero quelle che ti vengono date per risolvere il problema.\n",
        "print('''\\nCiao Rosa Blu! \\n\n",
        "Questo è il testo del tuo problema:\\n\n",
        "A quale volume bisogna portare 100 ml di una soluzione di NaCl al 15%\n",
        "(d = 1.106 g/ml) per preparare una soluzione 0.90 M?\\n''')\n",
        "print(\"Per prima cosa trasforma il valore della concentrazione da %wt a Molarità (mol/l).\")\n",
        "\n",
        "NaCl_soluzione_iniziale_percent = float(input(\"Inserisci il valore (dato dal problema) percentuale della soluzione di partenza in %: \\n\"))\n",
        "\n",
        "print(\"ottimo! è ora di usare il valore del volume della soluzione iniziale\\n\")\n",
        "\n",
        "NaCl_V1 = float(input(\"inserisci il valore (dato dal problema) del volume della soluzione iniziale (NaCl_V1) in ml: \\n\"))\n",
        "\n",
        "#il problema poi ti da´ anche la densità della soluzione.\n",
        "\n",
        "print(\"Perfetto! il problema ti fornisce la densità (d), significa che puoi conevrtire il tuo volume in peso!\\n\")\n",
        "\n",
        "Densità_g_l = float(input(\"inserisci il valore (dato dal problema) della densità (d) della soluzione di partenza in g/ml: \\n\"))\n",
        "\n",
        "#VARIABILI DIPENDENTI\n",
        "#le variabili dipendenti dipendono dai valori iniziali del problema e sono il risultato di un calcolo.\n",
        "#che tipo di calcolo ti chiede il problema?\n",
        "\n",
        "peso_soluzione = round((Densità_g_l*NaCl_V1),2)\n",
        "#il problema infine specifca la concentrazione a cui devi arrivare per risolvere il problema.\n",
        "print(f'''il peso della soluzione è quindi dato da: d * NaCl_V1 = 1.106 * 100 = {peso_soluzione} g. Di questo peso, il 15 % è NaCl \\n''')\n",
        "\n",
        "peso_NaCl = round(peso_soluzione*(NaCl_soluzione_iniziale_percent/100),2)\n",
        "\n",
        "print(f\"quindi NaCl_g = d*NaCl_V1*(15/100) = 110.6*(15/100) = {peso_NaCl} g \\n\")\n",
        "#COSTANTI\n",
        "NaCl_MW = 58.44\n",
        "#VARIABILI DIPENDENTI\n",
        "NaCl_mmol = round((peso_NaCl/NaCl_MW)*1000,2)\n",
        "print(f\"conoscendo il peso molecolare (NaCl_MW: 58.44) cacola: (NaCl_g/NaCl_MW) * 1000 = {NaCl_mmol} mmol. \\n\")\n",
        "\n",
        "NaCl_M1 = round(NaCl_mmol/NaCl_V1, 2)\n",
        "print(f\"Ora calcola la molarità M1: NaCl_mmol/NaCl_V1 = {NaCl_M1} M (M1). \\n\")\n",
        "\n",
        "print(\"Adesso puoi usare la formula della diluizione M1V1 = M2V2 --> V2=(M1V1)/M2 \\n\")\n",
        "NaCl_M2 = float(input(\"inserisci il valore M2 della soluzione finale in mol/l: \\n\"))\n",
        "\n",
        "NaCl_V2 = round((NaCl_M1*NaCl_V1)/NaCl_M2,2)\n",
        "\n",
        "print(f\"Quindi V2 = (M1V1/M2) = {NaCl_V2} ml che è il volume a cui devo arrivare per ottenere la diluizione richiesta. \\n\")\n",
        "print(\"Ottimo Rosa Blu! Per favore mi dici se la risposta è corretta sulla base delle soluzioni del tuo libro? scrivimi in DM su ig thanks :) \\n\")"
      ]
    }
  ]
}