{
  "nbformat": 4,
  "nbformat_minor": 0,
  "metadata": {
    "colab": {
      "provenance": [],
      "authorship_tag": "ABX9TyPirwDed8GPhr9jZPWYMy/G",
      "include_colab_link": true
    },
    "kernelspec": {
      "name": "python3",
      "display_name": "Python 3"
    },
    "language_info": {
      "name": "python"
    }
  },
  "cells": [
    {
      "cell_type": "markdown",
      "metadata": {
        "id": "view-in-github",
        "colab_type": "text"
      },
      "source": [
        "<a href=\"https://colab.research.google.com/github/davidebtt/chemical_pycode/blob/students/rosa_blu_handerson_hasselbach_M.ipynb\" target=\"_parent\"><img src=\"https://colab.research.google.com/assets/colab-badge.svg\" alt=\"Open In Colab\"/></a>"
      ]
    },
    {
      "cell_type": "code",
      "execution_count": null,
      "metadata": {
        "id": "UKkFhxB6PlmV"
      },
      "outputs": [],
      "source": [
        "import math\n",
        "\n",
        "print(\"\"\"Ciao Rosa Blu, in questo esercizio hai 3 input:\n",
        "1) AcOH_g\n",
        "2) AcOK_g\n",
        "3) V_soluzione_ml:\n",
        "Dobbiamo calcolare il pH della soluzione.\"\"\")\n",
        "\n",
        "# User inputs:\n",
        "AcOH_g = float(input(\"Inserisci il peso di AcOH in g: \"))\n",
        "AcOK_g = float(input(\"Inserisci il peso di KOAc in g: \"))\n",
        "v_soluzione_l = float(input(\"Inserisci il volume della soluzione in ml: \"))\n",
        "\n",
        "# Costanti\n",
        "Ka = 1.8e-5  # Costante di dissociazione acida\n",
        "AcOH_MW = 60.05  # Massa molare di AcOH (g/mol)\n",
        "AcOK_MW = 98.15  # Massa molare di AcOK (g/mol)\n",
        "\n",
        "#Calcoli\n",
        "v_soluzione_l = v_soluzione_l / 1000 # Conversione del volume in litri\n",
        "AcOH_M = (AcOH_g / AcOH_MW) / v_soluzione_l # Calcolo delle concentrazioni\n",
        "AcOK_M = (AcOK_g / AcOK_MW) / v_soluzione_l # Calcolo delle concentrazioni\n",
        "\n",
        "# Calcolo del pH usando l'equazione di Henderson-Hasselbalch\n",
        "pKa = -math.log10(Ka)\n",
        "pH = pKa + math.log10(AcOK_M / AcOH_M)\n",
        "\n",
        "# Output\n",
        "print(f\"\"\"\n",
        "Risultati del calcolo:\n",
        "-AcOH_mol = (AcOH_g / AcOH_MW) {(AcOH_g / AcOH_MW):.2f} mol\n",
        "-AcOK_mol = (AcOK_g / AcOK_MW) {(AcOK_g / AcOK_MW):.2f} mol\n",
        "-[AcOH] = AcOH_mol/v_soluzione_l = {AcOH_M:.4f} M\n",
        "-[AcOK] = AcOK_mol/v_soluzione_l = {AcOK_M:.4f} M\n",
        "-pH = {pH:.2f}\n",
        "\"\"\")\n",
        "\n",
        "print(\"Come ti trovi con il risultato? scrivimi in DM in ig @coding_chemie\")"
      ]
    }
  ]
}