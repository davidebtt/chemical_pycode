{
  "nbformat": 4,
  "nbformat_minor": 0,
  "metadata": {
    "colab": {
      "provenance": [],
      "authorship_tag": "ABX9TyNqa4zgWLaPRFUfz0eg5F4M",
      "include_colab_link": true
    },
    "kernelspec": {
      "name": "python3",
      "display_name": "Python 3"
    },
    "language_info": {
      "name": "python"
    }
  },
  "cells": [
    {
      "cell_type": "markdown",
      "metadata": {
        "id": "view-in-github",
        "colab_type": "text"
      },
      "source": [
        "<a href=\"https://colab.research.google.com/github/davidebtt/chemical_pycode/blob/solutions/dilutions.ipynb\" target=\"_parent\"><img src=\"https://colab.research.google.com/assets/colab-badge.svg\" alt=\"Open In Colab\"/></a>"
      ]
    },
    {
      "cell_type": "code",
      "execution_count": 1,
      "metadata": {
        "colab": {
          "base_uri": "https://localhost:8080/"
        },
        "id": "Swooy4oViHWs",
        "outputId": "a6f182d4-2f97-424a-d960-908a6b0f7d32"
      },
      "outputs": [
        {
          "output_type": "stream",
          "name": "stdout",
          "text": [
            "enter the concentration of the starting solution %wt %v or M 98\n",
            "enter the desired final concentration %wt %v or M 5\n",
            "enter the desired final volume in ml: 350\n",
            "PROCEDURE: \n",
            "measure 17.86 ml of concentrated solution and then dilute with solvent until solution reach volume 350.0\n"
          ]
        }
      ],
      "source": [
        "# This program help you to dilute concentrated solutions to the desired concentration and volume, Try it!\n",
        "\n",
        "#M1V1 = M2V2\n",
        "\n",
        "#V1 = M2V2/M1\n",
        "\n",
        "M1 = float(input(\"enter the concentration of the starting solution %wt %v or M \"))\n",
        "\n",
        "M2 = float(input(\"enter the desired final concentration %wt %v or M \"))\n",
        "\n",
        "V2 = float(input(\"enter the desired final volume in ml: \"))\n",
        "\n",
        "V1 = round(float((M2*V2)/M1),2)\n",
        "\n",
        "print(\"PROCEDURE: \")\n",
        "print(f\"measure {V1} ml of concentrated solution and then dilute with solvent until solution reach volume {V2}\")"
      ]
    }
  ]
}