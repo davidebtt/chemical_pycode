{
  "cells": [
    {
      "cell_type": "markdown",
      "metadata": {
        "id": "view-in-github",
        "colab_type": "text"
      },
      "source": [
        "<a href=\"https://colab.research.google.com/github/davidebtt/chemical_pycode/blob/chemical-calculator/mmol_calculator.ipynb\" target=\"_parent\"><img src=\"https://colab.research.google.com/assets/colab-badge.svg\" alt=\"Open In Colab\"/></a>"
      ]
    },
    {
      "cell_type": "code",
      "execution_count": null,
      "metadata": {
        "colab": {
          "base_uri": "https://localhost:8080/"
        },
        "id": "C4HZx7Gndbrh",
        "outputId": "fbc0265d-12fa-4d16-fa09-b0285f9a07b9"
      },
      "outputs": [
        {
          "output_type": "stream",
          "name": "stdout",
          "text": [
            "insert the mass of the pure chemical: 1\n",
            "insert the % of assay: 100\n",
            "insert the MW of the chemical: 254.41\n",
            "you have 3.9307 mmol\n"
          ]
        }
      ],
      "source": [
        "\n",
        "#User inputs\n",
        "\n",
        "mass_g = float(input(\"insert the mass of the pure chemical: \"))\n",
        "assay_percent_ = float(input(\"insert the % of assay: \"))\n",
        "molecular_weight = float(input(\"insert the MW of the chemical: \"))\n",
        "\n",
        "#calculations\n",
        "\n",
        "mmol = round(float(((mass_g * (assay_percent_/100))/molecular_weight)*1000), 4)\n",
        "print(f\"you have {mmol} mmol\")\n",
        "\n",
        "\n",
        "\n",
        "\n"
      ]
    },
    {
      "cell_type": "code",
      "execution_count": null,
      "metadata": {
        "id": "bxDpmLgpnTsD"
      },
      "outputs": [],
      "source": [
        "\n",
        "weight_g = float(input( \"enter the mass in g of the pure chemical: \"))\n",
        "assay_percent_ = float(input(\"enter the % of assay: \"))\n",
        "molecular_weight = float(input(\"enter the MW of the chemical: \"))\n",
        "mmol = round(float(((weight_g * (assay_percent_/100))/molecular_weight)*1000), 4)\n",
        "print(f\"you have {mmol} mmol\")"
      ]
    }
  ],
  "metadata": {
    "colab": {
      "provenance": [],
      "include_colab_link": true
    },
    "kernelspec": {
      "display_name": "Python 3",
      "name": "python3"
    }
  },
  "nbformat": 4,
  "nbformat_minor": 0
}