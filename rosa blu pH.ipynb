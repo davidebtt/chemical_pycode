{
  "nbformat": 4,
  "nbformat_minor": 0,
  "metadata": {
    "colab": {
      "provenance": [],
      "authorship_tag": "ABX9TyNd1IQ4IQmoWsmuUjYuTXYW",
      "include_colab_link": true
    },
    "kernelspec": {
      "name": "python3",
      "display_name": "Python 3"
    },
    "language_info": {
      "name": "python"
    }
  },
  "cells": [
    {
      "cell_type": "markdown",
      "metadata": {
        "id": "view-in-github",
        "colab_type": "text"
      },
      "source": [
        "<a href=\"https://colab.research.google.com/github/davidebtt/chemical_pycode/blob/students/rosa%20blu%20pH.ipynb\" target=\"_parent\"><img src=\"https://colab.research.google.com/assets/colab-badge.svg\" alt=\"Open In Colab\"/></a>"
      ]
    },
    {
      "cell_type": "code",
      "execution_count": null,
      "metadata": {
        "id": "Zhe3I8HF2hUh"
      },
      "outputs": [],
      "source": [
        "#ciao rosa blu in questo esecizio\n",
        "\n",
        "\n",
        "#inputs\n",
        "HClO4_M = float(input(\"inserisci la molarità dell'acido perclorico HClO4 in M: \"))\n",
        "\n",
        "v_NaOH_ml = float(input(\"inserisci il volume di NaOH in ml:\"))\n",
        "\n",
        "pH_start = float(input(\"inserisci il pH iniziale: \"))\n",
        "\n",
        "#calculations\n",
        "\n",
        "pOH = 14 - pH_start\n",
        "\n",
        "print(pOH)\n",
        "#output\n",
        "\n",
        "\n",
        "\n"
      ]
    }
  ]
}