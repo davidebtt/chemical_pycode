{
  "nbformat": 4,
  "nbformat_minor": 0,
  "metadata": {
    "colab": {
      "provenance": [],
      "authorship_tag": "ABX9TyPkE5bZDp1+NfRwhnl/tTrm",
      "include_colab_link": true
    },
    "kernelspec": {
      "name": "python3",
      "display_name": "Python 3"
    },
    "language_info": {
      "name": "python"
    }
  },
  "cells": [
    {
      "cell_type": "markdown",
      "metadata": {
        "id": "view-in-github",
        "colab_type": "text"
      },
      "source": [
        "<a href=\"https://colab.research.google.com/github/davidebtt/chemical_pycode/blob/students/rosa%20blu%20pH.ipynb\" target=\"_parent\"><img src=\"https://colab.research.google.com/assets/colab-badge.svg\" alt=\"Open In Colab\"/></a>"
      ]
    },
    {
      "cell_type": "code",
      "execution_count": null,
      "metadata": {
        "id": "Zhe3I8HF2hUh",
        "colab": {
          "base_uri": "https://localhost:8080/"
        },
        "outputId": "2cb5f383-2914-40d5-f00b-cd206cc3fcbd"
      },
      "outputs": [
        {
          "output_type": "stream",
          "name": "stdout",
          "text": [
            "\n",
            "Ciao rosa blu, in questo esercizio abbiamo 3 input:\n",
            "\n",
            "-> molarità di una soluzione di HClO4 (HClO4_M)\n",
            "-> volume di una soluzione di NaOH (v_NaOH_ml)\n",
            "-> pH iniziale (pH_start)\n",
            "\n"
          ]
        }
      ],
      "source": [
        "# ciao rosa blu in questo esercizio\n",
        "print(\"\"\"\n",
        "Ciao rosa blu, in questo esercizio abbiamo 3 input:\n",
        "\n",
        "-> molarità di una soluzione di HClO4 (HClO4_M)\n",
        "-> volume di una soluzione di NaOH (v_NaOH_ml)\n",
        "-> pH iniziale (pH_start)\n",
        "\"\"\")\n",
        "\n",
        "# Inputs\n",
        "HClO4_M = float(input(\"\\nInserisci la molarità dell'acido perclorico HClO4 in M: \"))\n",
        "\n",
        "v_NaOH_ml = float(input(\"\\nInserisci il volume di NaOH in ml: \"))\n",
        "\n",
        "pH_start = float(input(\"\\nInserisci il pH iniziale: \"))\n",
        "\n",
        "# Calculations\n",
        "pOH = round((14 - pH_start),2)  # Calcolo del pOH\n",
        "NaOH_M = round(10 ** (-pOH), 5)  # Calcolo della concentrazione di NaOH in M\n",
        "NaOH_mmol = round((NaOH_M * v_NaOH_ml), 2)  # Calcolo dei millimoli di NaOH\n",
        "\n",
        "# Calcolo del volume di HClO4 richiesto\n",
        "v_HClO4 = round((NaOH_mmol / HClO4_M), 2)  # Volume in ml\n",
        "\n",
        "# Output\n",
        "print(\"\\nsegui questi semplici passaggi:\")\n",
        "print(f\"\\n1) pOH = 14 - {pH_start} = {pOH}\")\n",
        "print(f\"\\n2) NaOH_M = 10^(-pOH) = {NaOH_M} M\")\n",
        "print(f\"\\n3) NaOH_mmol = NaOH_M * v_NaOH_ml = {NaOH_mmol} mmol\")\n",
        "print(f\"\\n4) v_HClO4_ml = NaOH_mmol / HClO4_M = {v_HClO4} ml\")\n",
        "print(\"\"\"\\nspero che in questo modo i passaggi ti siano più chiari, fammi sapere se la soluzione corrisponde e scrivimi in DM su ig,\n",
        "grazie per essere la prima studentessa a partecipare a questo progetto open source! :) \"\"\")\n",
        "\n",
        "\n",
        "\n",
        "\n"
      ]
    }
  ]
}