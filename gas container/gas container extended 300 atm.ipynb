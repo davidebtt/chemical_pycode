{
  "nbformat": 4,
  "nbformat_minor": 0,
  "metadata": {
    "colab": {
      "provenance": [],
      "authorship_tag": "ABX9TyNIwhx/K6K0ONFRQQPxtPLK",
      "include_colab_link": true
    },
    "kernelspec": {
      "name": "python3",
      "display_name": "Python 3"
    },
    "language_info": {
      "name": "python"
    }
  },
  "cells": [
    {
      "cell_type": "markdown",
      "metadata": {
        "id": "view-in-github",
        "colab_type": "text"
      },
      "source": [
        "<a href=\"https://colab.research.google.com/github/davidebtt/chemical_pycode/blob/gas-phase/gas%20container/gas%20container%20extended%20300%20atm.ipynb\" target=\"_parent\"><img src=\"https://colab.research.google.com/assets/colab-badge.svg\" alt=\"Open In Colab\"/></a>"
      ]
    },
    {
      "cell_type": "code",
      "execution_count": null,
      "metadata": {
        "id": "s24DN5vg__bi"
      },
      "outputs": [],
      "source": [
        "# This program calculates the mass of a gas in a container based on the Ideal Gas Law.\n",
        "# It allows the user to choose one of five gases (CH4, O2, H2, CO2, N2), and input the container's volume (in liters),\n",
        "# the temperature (in Celsius), and the pressure (in atm). Using the Ideal Gas Law, the program computes the\n",
        "# number of moles of the gas and its mass. Additionally, it generates a graph to show how the gas mass changes\n",
        "# with pressure for the given conditions.\n",
        "\n",
        "# Import necessary libraries\n",
        "import numpy as np\n",
        "import matplotlib.pyplot as plt\n",
        "\n",
        "# Constants\n",
        "R = 0.0821  # Ideal gas constant in L*atm/(mol*K)\n",
        "MW_gases = {\n",
        "    \"CH4\": 16.04,  # Molecular weight of methane in g/mol\n",
        "    \"O2\": 32.00,   # Molecular weight of oxygen in g/mol\n",
        "    \"H2\": 2.016,   # Molecular weight of hydrogen in g/mol\n",
        "    \"CO2\": 44.01,  # Molecular weight of carbon dioxide in g/mol\n",
        "    \"N2\": 28.02    # Molecular weight of nitrogen in g/mol\n",
        "}\n",
        "\n",
        "# Step 1: Choose the gas\n",
        "gas_choice = input(\"Choose a gas (CH4, O2, H2, CO2, N2): \").strip().upper()\n",
        "if gas_choice not in MW_gases:\n",
        "    raise ValueError(\"Invalid gas choice. Please choose from CH4, O2, H2, CO2, or N2.\")\n",
        "MW = MW_gases[gas_choice]\n",
        "\n",
        "# Step 2: Input the values for volume, temperature, and pressure\n",
        "volume_L = float(input(\"Enter the volume of the container in L: \"))  # in L\n",
        "temperature_C = float(input(\"Enter the temperature of the gas in °C: \"))  # in Celsius\n",
        "pressure_atm = float(input(\"Enter the pressure of the gas in atm: \"))  # in atm\n",
        "\n",
        "# Step 3: Convert the units to standard SI units\n",
        "temperature_K = temperature_C + 273.15  # Convert Celsius to Kelvin\n",
        "\n",
        "# Step 4: Use the Ideal Gas Law to calculate the number of moles\n",
        "# PV = nRT -> n = PV / RT\n",
        "n_moles = (pressure_atm * volume_L) / (R * temperature_K)\n",
        "\n",
        "# Step 5: Calculate the mass of the chosen gas\n",
        "gas_mass = n_moles * MW\n",
        "\n",
        "# Print the result\n",
        "print(f\"The mass of {gas_choice} in the container is {gas_mass:.2f} g.\")\n",
        "\n",
        "# Step 6: Create a graph showing the dependence of gas mass on pressure\n",
        "pressures_atm = np.linspace(0.5, 300, 100)  # Generate a range of pressures in atm\n",
        "masses = (pressures_atm * volume_L) / (R * temperature_K) * MW  # Calculate masses\n",
        "\n",
        "# Plot the graph\n",
        "plt.figure(figsize=(8, 5))\n",
        "plt.plot(pressures_atm, masses, label=f\"Mass of {gas_choice}\")\n",
        "plt.title(f\"Dependence of {gas_choice} Mass on Pressure\")\n",
        "plt.xlabel(\"Pressure (atm)\")\n",
        "plt.ylabel(f\"Mass of {gas_choice} (g)\")\n",
        "plt.grid()\n",
        "plt.legend()\n",
        "plt.show()\n"
      ]
    }
  ]
}