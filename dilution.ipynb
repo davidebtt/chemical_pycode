{
  "nbformat": 4,
  "nbformat_minor": 0,
  "metadata": {
    "colab": {
      "provenance": [],
      "authorship_tag": "ABX9TyMbZsSE7Q84fTR4ODDXVM2L",
      "include_colab_link": true
    },
    "kernelspec": {
      "name": "python3",
      "display_name": "Python 3"
    },
    "language_info": {
      "name": "python"
    }
  },
  "cells": [
    {
      "cell_type": "markdown",
      "metadata": {
        "id": "view-in-github",
        "colab_type": "text"
      },
      "source": [
        "<a href=\"https://colab.research.google.com/github/davidebtt/chemical_pycode/blob/solutions/dilution.ipynb\" target=\"_parent\"><img src=\"https://colab.research.google.com/assets/colab-badge.svg\" alt=\"Open In Colab\"/></a>"
      ]
    },
    {
      "cell_type": "code",
      "execution_count": null,
      "metadata": {
        "id": "s_ZtyaeBkN3i"
      },
      "outputs": [],
      "source": [
        "# This program help you to dilute concentrated solutions to the desired concentration and volume, Try it!\n",
        "\n",
        "#M1V1 = M2V2\n",
        "\n",
        "#V1 = M2V2/M1\n",
        "\n",
        "M1 = float(input(\"enter the concentration of the starting solution %wt %v or M: \"))\n",
        "\n",
        "M2 = float(input(\"enter the desired final concentration %wt %v or M: \"))\n",
        "\n",
        "V2 = float(input(\"enter the desired final volume in ml: \"))\n",
        "\n",
        "V1 = round(float((M2*V2)/M1),2)\n",
        "\n",
        "print(\"PROCEDURE: \")\n",
        "print(f\"measure {V1} ml of concentrated solution and then dilute with solvent until solution reach volume {V2}\")"
      ]
    }
  ]
}