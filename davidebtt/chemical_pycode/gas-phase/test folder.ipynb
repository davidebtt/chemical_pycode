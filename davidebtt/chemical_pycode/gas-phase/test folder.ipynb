{
  "nbformat": 4,
  "nbformat_minor": 0,
  "metadata": {
    "colab": {
      "provenance": [],
      "authorship_tag": "ABX9TyN1BBCh6KYxXYdWpnHVpFpa",
      "include_colab_link": true
    },
    "kernelspec": {
      "name": "python3",
      "display_name": "Python 3"
    },
    "language_info": {
      "name": "python"
    }
  },
  "cells": [
    {
      "cell_type": "markdown",
      "metadata": {
        "id": "view-in-github",
        "colab_type": "text"
      },
      "source": [
        "<a href=\"https://colab.research.google.com/github/davidebtt/chemical_pycode/blob/gas-phase/davidebtt/chemical_pycode/gas-phase/test%20folder.ipynb\" target=\"_parent\"><img src=\"https://colab.research.google.com/assets/colab-badge.svg\" alt=\"Open In Colab\"/></a>"
      ]
    },
    {
      "cell_type": "code",
      "execution_count": null,
      "metadata": {
        "id": "LcF055eJOptF"
      },
      "outputs": [],
      "source": [
        "#go to colab\n",
        "#save file on github\n",
        "#specify the path\n",
        "#example PATH:\n",
        "#davidebtt/chemical_pycode/gas-phase/test folder\n"
      ]
    }
  ]
}